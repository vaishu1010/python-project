{
 "cells": [
  {
   "cell_type": "code",
   "execution_count": 18,
   "id": "ae200329",
   "metadata": {},
   "outputs": [],
   "source": [
    "from tkinter import *\n",
    "\n",
    "root=Tk()\n",
    "root.geometry(\"500x300\")\n",
    "root.title(\"simple interest calculator\")\n",
    "\n",
    "def calculate():\n",
    "    prin=int(principalentry.get())\n",
    "    rat=int(rateentry.get())\n",
    "    tim=int(timeentry.get())\n",
    "    amount=(prin*rat*tim)/100\n",
    "    Label(text=f\"{amount}\",font=\"arial 30 bold\").place(x=200,y=220)\n",
    "    \n",
    "\n",
    "principal=Label(root,text=\"Principal:\",font=\"arial 15\")\n",
    "rate=Label(root,text=\"Rate of interest:\",font=\"arial 15\")\n",
    "time=Label(root,text=\"Time\",font=\"arial 15\")\n",
    "principal.place(x=50,y=20)\n",
    "rate.place(x=50,y=90)\n",
    "time.place(x=50,y=160)\n",
    "\n",
    "interest=Label(root,text=\"Interest:\",font=\"arial 15\")\n",
    "interest.place(x=50,y=230)\n",
    "\n",
    "principalvalue=StringVar()\n",
    "ratevalue=StringVar()\n",
    "timevalue=StringVar()\n",
    "\n",
    "principalentry=Entry(root,textvariable=principalvalue,font=\"arial 15 bold\",width=8)\n",
    "rateentry=Entry(root,textvariable=ratevalue,font=\"arial 15 bold\",width=8)\n",
    "timeentry=Entry(root,textvariable=timevalue,font=\"arial 15 bold\",width=8)\n",
    "\n",
    "principalentry.place(x=200,y=20)\n",
    "rateentry.place(x=200,y=90)\n",
    "timeentry.place(x=200,y=160)\n",
    "\n",
    "Button(text=\"Calculate\",font=\"arial 15\",command=calculate).place(x=350,y=20)\n",
    "Button(text=\"Exit\",command=lambda:exit(),font=\"arial 15\",width=8).place(x=350,y=90)\n",
    "    \n",
    "root.mainloop()"
   ]
  },
  {
   "cell_type": "code",
   "execution_count": null,
   "id": "ce15f6da",
   "metadata": {},
   "outputs": [],
   "source": []
  }
 ],
 "metadata": {
  "kernelspec": {
   "display_name": "Python 3 (ipykernel)",
   "language": "python",
   "name": "python3"
  },
  "language_info": {
   "codemirror_mode": {
    "name": "ipython",
    "version": 3
   },
   "file_extension": ".py",
   "mimetype": "text/x-python",
   "name": "python",
   "nbconvert_exporter": "python",
   "pygments_lexer": "ipython3",
   "version": "3.9.7"
  }
 },
 "nbformat": 4,
 "nbformat_minor": 5
}
